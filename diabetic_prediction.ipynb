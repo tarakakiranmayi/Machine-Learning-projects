{
  "nbformat": 4,
  "nbformat_minor": 0,
  "metadata": {
    "colab": {
      "provenance": [],
      "mount_file_id": "1c6s4Uv3UQ_Aj4Ag_N5OQU5_5ms22MqCO",
      "authorship_tag": "ABX9TyN1xpdwAiCqK6d/Rvp5W3Nh",
      "include_colab_link": true
    },
    "kernelspec": {
      "name": "python3",
      "display_name": "Python 3"
    },
    "language_info": {
      "name": "python"
    }
  },
  "cells": [
    {
      "cell_type": "markdown",
      "metadata": {
        "id": "view-in-github",
        "colab_type": "text"
      },
      "source": [
        "<a href=\"https://colab.research.google.com/github/tarakakiranmayi/Machine-Learning-projects/blob/main/diabetic_prediction.ipynb\" target=\"_parent\"><img src=\"https://colab.research.google.com/assets/colab-badge.svg\" alt=\"Open In Colab\"/></a>"
      ]
    },
    {
      "cell_type": "code",
      "source": [
        "import pandas as pd\n",
        "import numpy as np\n",
        "from  sklearn.metrics import accuracy_score\n",
        "from sklearn.model_selection import train_test_split\n",
        "from sklearn import svm\n",
        "from sklearn.preprocessing import StandardScaler"
      ],
      "metadata": {
        "id": "PaOjtUNEWKlO"
      },
      "execution_count": null,
      "outputs": []
    },
    {
      "cell_type": "code",
      "execution_count": null,
      "metadata": {
        "colab": {
          "base_uri": "https://localhost:8080/"
        },
        "id": "JKtH9bB7VkgC",
        "outputId": "0e159b9a-bc95-4a89-f0c0-45b1401ba32c"
      },
      "outputs": [
        {
          "output_type": "stream",
          "name": "stdout",
          "text": [
            "IT is a diabetic person\n"
          ]
        }
      ],
      "source": [
        "diabetic_data=pd.read_csv('/content/drive/MyDrive/Datasets/datasets/diabetes.csv')\n",
        "diabetic_data.describe()\n",
        "diabetic_data.groupby('Outcome').mean()\n",
        "x=diabetic_data.drop(columns='Outcome',axis=1)\n",
        "y=diabetic_data['Outcome']\n",
        "scaler=StandardScaler()\n",
        "x=scaler.fit_transform(x)\n",
        "print(x)\n",
        "x_train,x_test,y_train,y_test=train_test_split(x,y,test_size=0.2,stratify=y,random_state=2)\n",
        "print(x.shape,x_train.shape,x_test.shape)\n",
        "model=svm.SVC(kernel='linear')\n",
        "model.fit(x_train,y_train)\n",
        "prediction=model.predict(x_train)\n",
        "accurate_x=accuracy_score(prediction,y_train)\n",
        "print(accurate_x)\n",
        "prediction_test=model.predict(x_test)\n",
        "accurate_test=accuracy_score(prediction_test,y_test)\n",
        "print(accurate_test)\n",
        "input_data=(4,110,92,0,0,37.6,0.191,30)\n",
        "input_numpy_array=np.asarray(input_data,dtype='float')\n",
        "#reshape is done because our model knows 786 rows but we are giving 1 row\n",
        "input_reshape=input_numpy_array.reshape(1,-1)\n",
        "std_data=scaler.transform(input_reshape)\n",
        "value=model.predict(std_data)\n",
        "print(value)\n",
        "if value[0]==0:\n",
        "  print(\"IT is a diabetic person\")\n",
        "else:\n",
        "  print(\"It is not a diabetic person\")\n",
        "\n"
      ]
    },
    {
      "cell_type": "code",
      "source": [],
      "metadata": {
        "id": "wM2t-J4UWJxx"
      },
      "execution_count": null,
      "outputs": []
    },
    {
      "cell_type": "code",
      "source": [],
      "metadata": {
        "colab": {
          "base_uri": "https://localhost:8080/"
        },
        "id": "K0DvHMakVoR-",
        "outputId": "8fae9be7-b682-4d80-f1d8-9d9dc43cf61b"
      },
      "execution_count": null,
      "outputs": [
        {
          "output_type": "stream",
          "name": "stdout",
          "text": [
            "Mounted at /content/drive\n"
          ]
        }
      ]
    }
  ]
}